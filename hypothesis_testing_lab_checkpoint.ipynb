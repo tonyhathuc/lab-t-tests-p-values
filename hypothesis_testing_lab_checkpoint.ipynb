{
  "nbformat": 4,
  "nbformat_minor": 5,
  "metadata": {
    "kernelspec": {
      "display_name": "Python 3",
      "language": "python",
      "name": "python3"
    },
    "language_info": {
      "codemirror_mode": {
        "name": "ipython",
        "version": 3
      },
      "file_extension": ".py",
      "mimetype": "text/x-python",
      "name": "python",
      "nbconvert_exporter": "python",
      "pygments_lexer": "ipython3",
      "version": "3.9.2"
    },
    "toc": {
      "base_numbering": 1,
      "nav_menu": {},
      "number_sections": true,
      "sideBar": true,
      "skip_h1_title": false,
      "title_cell": "Table of Contents",
      "title_sidebar": "Contents",
      "toc_cell": false,
      "toc_position": {},
      "toc_section_display": true,
      "toc_window_display": false
    },
    "varInspector": {
      "cols": {
        "lenName": 16,
        "lenType": 16,
        "lenVar": 40
      },
      "kernels_config": {
        "python": {
          "delete_cmd_postfix": "",
          "delete_cmd_prefix": "del ",
          "library": "var_list.py",
          "varRefreshCmd": "print(var_dic_list())"
        },
        "r": {
          "delete_cmd_postfix": ") ",
          "delete_cmd_prefix": "rm(",
          "library": "var_list.r",
          "varRefreshCmd": "cat(var_dic_list()) "
        }
      },
      "types_to_exclude": [
        "module",
        "function",
        "builtin_function_or_method",
        "instance",
        "_Feature"
      ],
      "window_display": false
    },
    "colab": {
      "name": "hypothesis-testing-lab-checkpoint.ipynb",
      "provenance": [],
      "collapsed_sections": [],
      "include_colab_link": true
    }
  },
  "cells": [
    {
      "cell_type": "markdown",
      "metadata": {
        "id": "view-in-github",
        "colab_type": "text"
      },
      "source": [
        "<a href=\"https://colab.research.google.com/github/tonyhathuc/lab-t-tests-p-values/blob/master/hypothesis_testing_lab_checkpoint.ipynb\" target=\"_parent\"><img src=\"https://colab.research.google.com/assets/colab-badge.svg\" alt=\"Open In Colab\"/></a>"
      ]
    },
    {
      "cell_type": "code",
      "metadata": {
        "id": "elder-potential"
      },
      "source": [
        "import numpy as np\n",
        "import pandas as pd \n",
        "import matplotlib.pyplot as plt"
      ],
      "id": "elder-potential",
      "execution_count": null,
      "outputs": []
    },
    {
      "cell_type": "code",
      "metadata": {
        "colab": {
          "base_uri": "https://localhost:8080/",
          "height": 348
        },
        "id": "ep5oy25o67Uk",
        "outputId": "59336d50-164d-4999-f122-b9a85eef3fa7"
      },
      "source": [
        "data = pd.read_csv(\"https://raw.githubusercontent.com/tonyhathuc/lab-t-tests-p-values/master/files_for_lab/machine.csv\", sep =\"\\t\", encoding = 'utf-16') \n",
        "df = data\n",
        "df"
      ],
      "id": "ep5oy25o67Uk",
      "execution_count": null,
      "outputs": [
        {
          "output_type": "execute_result",
          "data": {
            "text/html": [
              "<div>\n",
              "<style scoped>\n",
              "    .dataframe tbody tr th:only-of-type {\n",
              "        vertical-align: middle;\n",
              "    }\n",
              "\n",
              "    .dataframe tbody tr th {\n",
              "        vertical-align: top;\n",
              "    }\n",
              "\n",
              "    .dataframe thead th {\n",
              "        text-align: right;\n",
              "    }\n",
              "</style>\n",
              "<table border=\"1\" class=\"dataframe\">\n",
              "  <thead>\n",
              "    <tr style=\"text-align: right;\">\n",
              "      <th></th>\n",
              "      <th>new_machine</th>\n",
              "      <th>old_machine</th>\n",
              "    </tr>\n",
              "  </thead>\n",
              "  <tbody>\n",
              "    <tr>\n",
              "      <th>0</th>\n",
              "      <td>42.1</td>\n",
              "      <td>42.7</td>\n",
              "    </tr>\n",
              "    <tr>\n",
              "      <th>1</th>\n",
              "      <td>41.0</td>\n",
              "      <td>43.6</td>\n",
              "    </tr>\n",
              "    <tr>\n",
              "      <th>2</th>\n",
              "      <td>41.3</td>\n",
              "      <td>43.8</td>\n",
              "    </tr>\n",
              "    <tr>\n",
              "      <th>3</th>\n",
              "      <td>41.8</td>\n",
              "      <td>43.3</td>\n",
              "    </tr>\n",
              "    <tr>\n",
              "      <th>4</th>\n",
              "      <td>42.4</td>\n",
              "      <td>42.5</td>\n",
              "    </tr>\n",
              "    <tr>\n",
              "      <th>5</th>\n",
              "      <td>42.8</td>\n",
              "      <td>43.5</td>\n",
              "    </tr>\n",
              "    <tr>\n",
              "      <th>6</th>\n",
              "      <td>43.2</td>\n",
              "      <td>43.1</td>\n",
              "    </tr>\n",
              "    <tr>\n",
              "      <th>7</th>\n",
              "      <td>42.3</td>\n",
              "      <td>41.7</td>\n",
              "    </tr>\n",
              "    <tr>\n",
              "      <th>8</th>\n",
              "      <td>41.8</td>\n",
              "      <td>44.0</td>\n",
              "    </tr>\n",
              "    <tr>\n",
              "      <th>9</th>\n",
              "      <td>42.7</td>\n",
              "      <td>44.1</td>\n",
              "    </tr>\n",
              "  </tbody>\n",
              "</table>\n",
              "</div>"
            ],
            "text/plain": [
              "   new_machine  old_machine\n",
              "0         42.1         42.7\n",
              "1         41.0         43.6\n",
              "2         41.3         43.8\n",
              "3         41.8         43.3\n",
              "4         42.4         42.5\n",
              "5         42.8         43.5\n",
              "6         43.2         43.1\n",
              "7         42.3         41.7\n",
              "8         41.8         44.0\n",
              "9         42.7         44.1"
            ]
          },
          "metadata": {
            "tags": []
          },
          "execution_count": 38
        }
      ]
    },
    {
      "cell_type": "code",
      "metadata": {
        "id": "eN4TKFykLiWM"
      },
      "source": [
        "import statistics"
      ],
      "id": "eN4TKFykLiWM",
      "execution_count": null,
      "outputs": []
    },
    {
      "cell_type": "code",
      "metadata": {
        "id": "joint-charity"
      },
      "source": [
        "from scipy.stats import ttest_1samp"
      ],
      "id": "joint-charity",
      "execution_count": null,
      "outputs": []
    },
    {
      "cell_type": "code",
      "metadata": {
        "id": "certain-advice"
      },
      "source": [
        "from scipy.stats import norm # normal distribution"
      ],
      "id": "certain-advice",
      "execution_count": null,
      "outputs": []
    },
    {
      "cell_type": "code",
      "metadata": {
        "id": "respiratory-fairy"
      },
      "source": [
        "import math"
      ],
      "id": "respiratory-fairy",
      "execution_count": null,
      "outputs": []
    },
    {
      "cell_type": "code",
      "metadata": {
        "id": "prerequisite-diana"
      },
      "source": [
        "from scipy.stats import t "
      ],
      "id": "prerequisite-diana",
      "execution_count": null,
      "outputs": []
    },
    {
      "cell_type": "code",
      "metadata": {
        "colab": {
          "base_uri": "https://localhost:8080/"
        },
        "id": "alert-impact",
        "outputId": "e499c61c-40c4-46a1-8b9b-b60640b60283"
      },
      "source": [
        "# calculate the test statistic for our sample\n",
        "# first we need to plugin our information (first define the numbers)\n",
        "\n",
        "\n",
        "old_sample_mean = statistics.mean(df[\"old_machine\"])\n",
        "old_sample_mean\n",
        "#pop_mean = 85\n",
        "#sampl_std = 11.6\n",
        "#n=10"
      ],
      "id": "alert-impact",
      "execution_count": null,
      "outputs": [
        {
          "output_type": "execute_result",
          "data": {
            "text/plain": [
              "43.230000000000004"
            ]
          },
          "metadata": {
            "tags": []
          },
          "execution_count": 44
        }
      ]
    },
    {
      "cell_type": "code",
      "metadata": {
        "colab": {
          "base_uri": "https://localhost:8080/"
        },
        "id": "XJ2rTwmkW8lm",
        "outputId": "f2684b2a-1b14-44e1-9f16-cd372007b081"
      },
      "source": [
        "old_sample_std = statistics.stdev(df[\"old_machine\"])\n",
        "old_sample_std"
      ],
      "id": "XJ2rTwmkW8lm",
      "execution_count": 54,
      "outputs": [
        {
          "output_type": "execute_result",
          "data": {
            "text/plain": [
              "0.7498888806572158"
            ]
          },
          "metadata": {
            "tags": []
          },
          "execution_count": 54
        }
      ]
    },
    {
      "cell_type": "code",
      "metadata": {
        "colab": {
          "base_uri": "https://localhost:8080/"
        },
        "id": "y26UZdbBM5zz",
        "outputId": "84e392f9-2f5c-4c27-b9c0-105b8a699364"
      },
      "source": [
        "new_sample_mean = statistics.mean(df[\"new_machine\"])\n",
        "new_sample_mean"
      ],
      "id": "y26UZdbBM5zz",
      "execution_count": null,
      "outputs": [
        {
          "output_type": "execute_result",
          "data": {
            "text/plain": [
              "42.14"
            ]
          },
          "metadata": {
            "tags": []
          },
          "execution_count": 46
        }
      ]
    },
    {
      "cell_type": "code",
      "metadata": {
        "colab": {
          "base_uri": "https://localhost:8080/"
        },
        "id": "WEwsOdrWb6Er",
        "outputId": "8e9a5e7b-b300-4174-a7fd-0e441229eb19"
      },
      "source": [
        "new_sample_std = statistics.stdev(df[\"new_machine\"])\n",
        "new_sample_std"
      ],
      "id": "WEwsOdrWb6Er",
      "execution_count": 53,
      "outputs": [
        {
          "output_type": "execute_result",
          "data": {
            "text/plain": [
              "0.6834552736727638"
            ]
          },
          "metadata": {
            "tags": []
          },
          "execution_count": 53
        }
      ]
    },
    {
      "cell_type": "code",
      "metadata": {
        "colab": {
          "base_uri": "https://localhost:8080/"
        },
        "id": "Y-QsAFx2Wki3",
        "outputId": "75bcf5cf-d3bb-4496-86b6-25c8753e2df9"
      },
      "source": [
        "# I assume we are trying to calculate t-statistics here\n",
        "n = 10\n",
        "statistic = (old_sample_mean - new_sample_mean)/(old_sample_std/math.sqrt(n-1))\n",
        "statistic"
      ],
      "id": "Y-QsAFx2Wki3",
      "execution_count": null,
      "outputs": [
        {
          "output_type": "execute_result",
          "data": {
            "text/plain": [
              "4.596524549827484"
            ]
          },
          "metadata": {
            "tags": []
          },
          "execution_count": 50
        }
      ]
    },
    {
      "cell_type": "code",
      "metadata": {
        "colab": {
          "base_uri": "https://localhost:8080/"
        },
        "id": "9IuWKG_2bpQf",
        "outputId": "45c9b913-a1c3-4ac2-d3c0-16276ca62401"
      },
      "source": [
        "# let's try reversing old sample mean with new sample mean\n",
        "statistic2 = (new_sample_mean - old_sample_mean)/(new_sample_std/math.sqrt(n-1))\n",
        "statistic2"
      ],
      "id": "9IuWKG_2bpQf",
      "execution_count": 56,
      "outputs": [
        {
          "output_type": "execute_result",
          "data": {
            "text/plain": [
              "-4.7845120609394485"
            ]
          },
          "metadata": {
            "tags": []
          },
          "execution_count": 56
        }
      ]
    },
    {
      "cell_type": "code",
      "metadata": {
        "colab": {
          "base_uri": "https://localhost:8080/"
        },
        "id": "employed-nothing",
        "outputId": "298be7c6-4742-460e-9560-e213a2442f56"
      },
      "source": [
        "# let's try the z-distribution we learnt in today's lesson\n",
        "# we are asking whether this is statistically significant - let's put 0.05 since that is the convention\n",
        "\n",
        "critical_valueZ = norm.ppf(0.05)\n",
        "critical_valueZ"
      ],
      "id": "employed-nothing",
      "execution_count": 57,
      "outputs": [
        {
          "output_type": "execute_result",
          "data": {
            "text/plain": [
              "-1.6448536269514729"
            ]
          },
          "metadata": {
            "tags": []
          },
          "execution_count": 57
        }
      ]
    },
    {
      "cell_type": "code",
      "metadata": {
        "id": "prerequisite-jones",
        "outputId": "28449b42-314b-4087-ebdf-b33496b0773e"
      },
      "source": [
        "# is this statistically significant - 0.05 is convention\n",
        "# we are not reffering to a t-distribution here but to a z-distribution, which is not so accurate\n",
        "critical_value = norm.ppf(0.05)\n",
        "critical_value"
      ],
      "id": "prerequisite-jones",
      "execution_count": null,
      "outputs": [
        {
          "output_type": "execute_result",
          "data": {
            "text/plain": [
              "-1.6448536269514729"
            ]
          },
          "metadata": {
            "tags": []
          },
          "execution_count": 12
        }
      ]
    },
    {
      "cell_type": "code",
      "metadata": {
        "id": "fZiS9dXGmepK"
      },
      "source": [
        ""
      ],
      "id": "fZiS9dXGmepK",
      "execution_count": null,
      "outputs": []
    },
    {
      "cell_type": "code",
      "metadata": {
        "colab": {
          "base_uri": "https://localhost:8080/"
        },
        "id": "B2rDASruej0V",
        "outputId": "b158f07b-f5bc-4132-e4c6-99b9456aeac4"
      },
      "source": [
        "# let's calculate the confidence interval\n",
        "# (new_sample)\n",
        "AbsoluteZ = abs(norm.ppf(0.05))\n",
        "upperCI2 = new_sample_mean + AbsoluteZ*new_sample_std/math.sqrt(n-1)\n",
        "upperCI2"
      ],
      "id": "B2rDASruej0V",
      "execution_count": 59,
      "outputs": [
        {
          "output_type": "execute_result",
          "data": {
            "text/plain": [
              "42.51472796191992"
            ]
          },
          "metadata": {
            "tags": []
          },
          "execution_count": 59
        }
      ]
    },
    {
      "cell_type": "code",
      "metadata": {
        "colab": {
          "base_uri": "https://localhost:8080/"
        },
        "id": "t_OPsqWBzOJ2",
        "outputId": "36197b0f-9374-4aba-e1c8-bd5a805b547a"
      },
      "source": [
        "lowerCI2 = new_sample_mean - AbsoluteZ*new_sample_std/math.sqrt(n-1)\n",
        "lowerCI2"
      ],
      "id": "t_OPsqWBzOJ2",
      "execution_count": 62,
      "outputs": [
        {
          "output_type": "execute_result",
          "data": {
            "text/plain": [
              "41.765272038080084"
            ]
          },
          "metadata": {
            "tags": []
          },
          "execution_count": 62
        }
      ]
    },
    {
      "cell_type": "code",
      "metadata": {
        "colab": {
          "base_uri": "https://localhost:8080/"
        },
        "id": "4Cr-nMvxmkGY",
        "outputId": "49e5dc96-af7b-4156-c2d1-6fe19081506e"
      },
      "source": [
        "# let's calculate the confidence interval\n",
        "# (old_sample)\n",
        "# upper\n",
        "upperCI1 = old_sample_mean + AbsoluteZ*old_sample_std/math.sqrt(n-1)\n",
        "upperCI1"
      ],
      "id": "4Cr-nMvxmkGY",
      "execution_count": 60,
      "outputs": [
        {
          "output_type": "execute_result",
          "data": {
            "text/plain": [
              "43.64115248171987"
            ]
          },
          "metadata": {
            "tags": []
          },
          "execution_count": 60
        }
      ]
    },
    {
      "cell_type": "code",
      "metadata": {
        "colab": {
          "base_uri": "https://localhost:8080/"
        },
        "id": "2fMKzT2Qzf1t",
        "outputId": "46e831f9-3f78-4531-e5c9-5277ad93128d"
      },
      "source": [
        "# lower\n",
        "lowerCI1 = old_sample_mean - AbsoluteZ*old_sample_std/math.sqrt(n-1)\n",
        "lowerCI1"
      ],
      "id": "2fMKzT2Qzf1t",
      "execution_count": 63,
      "outputs": [
        {
          "output_type": "execute_result",
          "data": {
            "text/plain": [
              "42.81884751828014"
            ]
          },
          "metadata": {
            "tags": []
          },
          "execution_count": 63
        }
      ]
    },
    {
      "cell_type": "code",
      "metadata": {
        "id": "polished-joshua",
        "outputId": "4028c54e-8276-4d8e-ad93-06146b73783a"
      },
      "source": [
        "# confidence interval\n",
        "# example from lecture\n",
        "# absoluteZ = abs(norm.ppf(0.05))\n",
        "# upperCI = sample_mean + absoluteZ*sampl_std/math.sqrt(n-1)\n",
        "# upperCI"
      ],
      "id": "polished-joshua",
      "execution_count": null,
      "outputs": [
        {
          "output_type": "execute_result",
          "data": {
            "text/plain": [
              "84.8347503513441"
            ]
          },
          "metadata": {
            "tags": []
          },
          "execution_count": 15
        }
      ]
    },
    {
      "cell_type": "code",
      "metadata": {
        "id": "neutral-desperate",
        "outputId": "e76f9f3b-55a5-4f9a-dfdf-5b3de7f31050"
      },
      "source": [
        "# example from lecture\n",
        "# lowerCI = sample_mean -absoluteZ*sampl_std/math.sqrt(n-1)\n",
        "# lowerCI"
      ],
      "id": "neutral-desperate",
      "execution_count": null,
      "outputs": [
        {
          "output_type": "execute_result",
          "data": {
            "text/plain": [
              "77.0452496486559"
            ]
          },
          "metadata": {
            "tags": []
          },
          "execution_count": 14
        }
      ]
    },
    {
      "cell_type": "code",
      "metadata": {
        "id": "legislative-stress"
      },
      "source": [
        ""
      ],
      "id": "legislative-stress",
      "execution_count": null,
      "outputs": []
    }
  ]
}